{
 "cells": [
  {
   "cell_type": "code",
   "execution_count": 1,
   "metadata": {},
   "outputs": [],
   "source": [
    "import pandas as pd\n",
    "import numpy as np\n",
    "from math import sqrt\n",
    "import matplotlib.pyplot as plt\n",
    "from sklearn.metrics import r2_score\n",
    "from sklearn.metrics import mean_absolute_error\n",
    "from sklearn.metrics import mean_squared_error\n",
    "from sklearn.model_selection import train_test_split\n",
    "from sklearn.preprocessing import LabelEncoder"
   ]
  },
  {
   "cell_type": "code",
   "execution_count": 2,
   "metadata": {},
   "outputs": [],
   "source": [
    "import warnings\n",
    "warnings.filterwarnings('ignore')"
   ]
  },
  {
   "cell_type": "markdown",
   "metadata": {},
   "source": [
    "# Dataset"
   ]
  },
  {
   "cell_type": "code",
   "execution_count": 3,
   "metadata": {},
   "outputs": [
    {
     "data": {
      "text/html": [
       "<div>\n",
       "<style scoped>\n",
       "    .dataframe tbody tr th:only-of-type {\n",
       "        vertical-align: middle;\n",
       "    }\n",
       "\n",
       "    .dataframe tbody tr th {\n",
       "        vertical-align: top;\n",
       "    }\n",
       "\n",
       "    .dataframe thead th {\n",
       "        text-align: right;\n",
       "    }\n",
       "</style>\n",
       "<table border=\"1\" class=\"dataframe\">\n",
       "  <thead>\n",
       "    <tr style=\"text-align: right;\">\n",
       "      <th></th>\n",
       "      <th>Unnamed: 0</th>\n",
       "      <th>rate_marriage</th>\n",
       "      <th>age</th>\n",
       "      <th>yrs_married</th>\n",
       "      <th>children</th>\n",
       "      <th>religious</th>\n",
       "      <th>educ</th>\n",
       "      <th>occupation</th>\n",
       "      <th>occupation_husb</th>\n",
       "      <th>affairs</th>\n",
       "    </tr>\n",
       "  </thead>\n",
       "  <tbody>\n",
       "    <tr>\n",
       "      <th>0</th>\n",
       "      <td>0</td>\n",
       "      <td>3.0</td>\n",
       "      <td>32.0</td>\n",
       "      <td>9.0</td>\n",
       "      <td>3.0</td>\n",
       "      <td>3.0</td>\n",
       "      <td>17.0</td>\n",
       "      <td>2.0</td>\n",
       "      <td>5.0</td>\n",
       "      <td>0.111111</td>\n",
       "    </tr>\n",
       "    <tr>\n",
       "      <th>1</th>\n",
       "      <td>1</td>\n",
       "      <td>3.0</td>\n",
       "      <td>27.0</td>\n",
       "      <td>13.0</td>\n",
       "      <td>3.0</td>\n",
       "      <td>1.0</td>\n",
       "      <td>14.0</td>\n",
       "      <td>3.0</td>\n",
       "      <td>4.0</td>\n",
       "      <td>3.230769</td>\n",
       "    </tr>\n",
       "    <tr>\n",
       "      <th>2</th>\n",
       "      <td>2</td>\n",
       "      <td>4.0</td>\n",
       "      <td>22.0</td>\n",
       "      <td>2.5</td>\n",
       "      <td>0.0</td>\n",
       "      <td>1.0</td>\n",
       "      <td>16.0</td>\n",
       "      <td>3.0</td>\n",
       "      <td>5.0</td>\n",
       "      <td>1.400000</td>\n",
       "    </tr>\n",
       "    <tr>\n",
       "      <th>3</th>\n",
       "      <td>3</td>\n",
       "      <td>4.0</td>\n",
       "      <td>37.0</td>\n",
       "      <td>16.5</td>\n",
       "      <td>4.0</td>\n",
       "      <td>3.0</td>\n",
       "      <td>16.0</td>\n",
       "      <td>5.0</td>\n",
       "      <td>5.0</td>\n",
       "      <td>0.727273</td>\n",
       "    </tr>\n",
       "    <tr>\n",
       "      <th>4</th>\n",
       "      <td>4</td>\n",
       "      <td>5.0</td>\n",
       "      <td>27.0</td>\n",
       "      <td>9.0</td>\n",
       "      <td>1.0</td>\n",
       "      <td>1.0</td>\n",
       "      <td>14.0</td>\n",
       "      <td>3.0</td>\n",
       "      <td>4.0</td>\n",
       "      <td>4.666666</td>\n",
       "    </tr>\n",
       "    <tr>\n",
       "      <th>...</th>\n",
       "      <td>...</td>\n",
       "      <td>...</td>\n",
       "      <td>...</td>\n",
       "      <td>...</td>\n",
       "      <td>...</td>\n",
       "      <td>...</td>\n",
       "      <td>...</td>\n",
       "      <td>...</td>\n",
       "      <td>...</td>\n",
       "      <td>...</td>\n",
       "    </tr>\n",
       "    <tr>\n",
       "      <th>6361</th>\n",
       "      <td>6361</td>\n",
       "      <td>5.0</td>\n",
       "      <td>32.0</td>\n",
       "      <td>13.0</td>\n",
       "      <td>2.0</td>\n",
       "      <td>3.0</td>\n",
       "      <td>17.0</td>\n",
       "      <td>4.0</td>\n",
       "      <td>3.0</td>\n",
       "      <td>0.000000</td>\n",
       "    </tr>\n",
       "    <tr>\n",
       "      <th>6362</th>\n",
       "      <td>6362</td>\n",
       "      <td>4.0</td>\n",
       "      <td>32.0</td>\n",
       "      <td>13.0</td>\n",
       "      <td>1.0</td>\n",
       "      <td>1.0</td>\n",
       "      <td>16.0</td>\n",
       "      <td>5.0</td>\n",
       "      <td>5.0</td>\n",
       "      <td>0.000000</td>\n",
       "    </tr>\n",
       "    <tr>\n",
       "      <th>6363</th>\n",
       "      <td>6363</td>\n",
       "      <td>5.0</td>\n",
       "      <td>22.0</td>\n",
       "      <td>2.5</td>\n",
       "      <td>0.0</td>\n",
       "      <td>2.0</td>\n",
       "      <td>14.0</td>\n",
       "      <td>3.0</td>\n",
       "      <td>1.0</td>\n",
       "      <td>0.000000</td>\n",
       "    </tr>\n",
       "    <tr>\n",
       "      <th>6364</th>\n",
       "      <td>6364</td>\n",
       "      <td>5.0</td>\n",
       "      <td>32.0</td>\n",
       "      <td>6.0</td>\n",
       "      <td>1.0</td>\n",
       "      <td>3.0</td>\n",
       "      <td>14.0</td>\n",
       "      <td>3.0</td>\n",
       "      <td>4.0</td>\n",
       "      <td>0.000000</td>\n",
       "    </tr>\n",
       "    <tr>\n",
       "      <th>6365</th>\n",
       "      <td>6365</td>\n",
       "      <td>4.0</td>\n",
       "      <td>22.0</td>\n",
       "      <td>2.5</td>\n",
       "      <td>0.0</td>\n",
       "      <td>2.0</td>\n",
       "      <td>16.0</td>\n",
       "      <td>2.0</td>\n",
       "      <td>4.0</td>\n",
       "      <td>0.000000</td>\n",
       "    </tr>\n",
       "  </tbody>\n",
       "</table>\n",
       "<p>6366 rows × 10 columns</p>\n",
       "</div>"
      ],
      "text/plain": [
       "      Unnamed: 0  rate_marriage   age  yrs_married  children  religious  educ  \\\n",
       "0              0            3.0  32.0          9.0       3.0        3.0  17.0   \n",
       "1              1            3.0  27.0         13.0       3.0        1.0  14.0   \n",
       "2              2            4.0  22.0          2.5       0.0        1.0  16.0   \n",
       "3              3            4.0  37.0         16.5       4.0        3.0  16.0   \n",
       "4              4            5.0  27.0          9.0       1.0        1.0  14.0   \n",
       "...          ...            ...   ...          ...       ...        ...   ...   \n",
       "6361        6361            5.0  32.0         13.0       2.0        3.0  17.0   \n",
       "6362        6362            4.0  32.0         13.0       1.0        1.0  16.0   \n",
       "6363        6363            5.0  22.0          2.5       0.0        2.0  14.0   \n",
       "6364        6364            5.0  32.0          6.0       1.0        3.0  14.0   \n",
       "6365        6365            4.0  22.0          2.5       0.0        2.0  16.0   \n",
       "\n",
       "      occupation  occupation_husb   affairs  \n",
       "0            2.0              5.0  0.111111  \n",
       "1            3.0              4.0  3.230769  \n",
       "2            3.0              5.0  1.400000  \n",
       "3            5.0              5.0  0.727273  \n",
       "4            3.0              4.0  4.666666  \n",
       "...          ...              ...       ...  \n",
       "6361         4.0              3.0  0.000000  \n",
       "6362         5.0              5.0  0.000000  \n",
       "6363         3.0              1.0  0.000000  \n",
       "6364         3.0              4.0  0.000000  \n",
       "6365         2.0              4.0  0.000000  \n",
       "\n",
       "[6366 rows x 10 columns]"
      ]
     },
     "execution_count": 3,
     "metadata": {},
     "output_type": "execute_result"
    }
   ],
   "source": [
    "df = pd.read_csv('C:\\\\Users\\\\Kamrul Hasan\\\\Desktop\\\\affairs.csv')\n",
    "df"
   ]
  },
  {
   "cell_type": "code",
   "execution_count": 4,
   "metadata": {},
   "outputs": [],
   "source": [
    "from sklearn import preprocessing\n",
    "from sklearn import utils"
   ]
  },
  {
   "cell_type": "markdown",
   "metadata": {},
   "source": [
    "# Finding Missing values"
   ]
  },
  {
   "cell_type": "code",
   "execution_count": 5,
   "metadata": {},
   "outputs": [
    {
     "data": {
      "text/html": [
       "<div>\n",
       "<style scoped>\n",
       "    .dataframe tbody tr th:only-of-type {\n",
       "        vertical-align: middle;\n",
       "    }\n",
       "\n",
       "    .dataframe tbody tr th {\n",
       "        vertical-align: top;\n",
       "    }\n",
       "\n",
       "    .dataframe thead th {\n",
       "        text-align: right;\n",
       "    }\n",
       "</style>\n",
       "<table border=\"1\" class=\"dataframe\">\n",
       "  <thead>\n",
       "    <tr style=\"text-align: right;\">\n",
       "      <th></th>\n",
       "      <th>Unnamed: 0</th>\n",
       "      <th>rate_marriage</th>\n",
       "      <th>age</th>\n",
       "      <th>yrs_married</th>\n",
       "      <th>children</th>\n",
       "      <th>religious</th>\n",
       "      <th>educ</th>\n",
       "      <th>occupation</th>\n",
       "      <th>occupation_husb</th>\n",
       "      <th>affairs</th>\n",
       "    </tr>\n",
       "  </thead>\n",
       "  <tbody>\n",
       "  </tbody>\n",
       "</table>\n",
       "</div>"
      ],
      "text/plain": [
       "Empty DataFrame\n",
       "Columns: [Unnamed: 0, rate_marriage, age, yrs_married, children, religious, educ, occupation, occupation_husb, affairs]\n",
       "Index: []"
      ]
     },
     "execution_count": 5,
     "metadata": {},
     "output_type": "execute_result"
    }
   ],
   "source": [
    "df[pd.isnull(df).any(axis=1)]"
   ]
  },
  {
   "cell_type": "markdown",
   "metadata": {},
   "source": [
    "# correlation"
   ]
  },
  {
   "cell_type": "code",
   "execution_count": 6,
   "metadata": {},
   "outputs": [
    {
     "data": {
      "text/html": [
       "<div>\n",
       "<style scoped>\n",
       "    .dataframe tbody tr th:only-of-type {\n",
       "        vertical-align: middle;\n",
       "    }\n",
       "\n",
       "    .dataframe tbody tr th {\n",
       "        vertical-align: top;\n",
       "    }\n",
       "\n",
       "    .dataframe thead th {\n",
       "        text-align: right;\n",
       "    }\n",
       "</style>\n",
       "<table border=\"1\" class=\"dataframe\">\n",
       "  <thead>\n",
       "    <tr style=\"text-align: right;\">\n",
       "      <th></th>\n",
       "      <th>Unnamed: 0</th>\n",
       "      <th>rate_marriage</th>\n",
       "      <th>age</th>\n",
       "      <th>yrs_married</th>\n",
       "      <th>children</th>\n",
       "      <th>religious</th>\n",
       "      <th>educ</th>\n",
       "      <th>occupation</th>\n",
       "      <th>occupation_husb</th>\n",
       "      <th>affairs</th>\n",
       "    </tr>\n",
       "  </thead>\n",
       "  <tbody>\n",
       "    <tr>\n",
       "      <th>Unnamed: 0</th>\n",
       "      <td>1.000000</td>\n",
       "      <td>0.264258</td>\n",
       "      <td>-0.108447</td>\n",
       "      <td>-0.142873</td>\n",
       "      <td>-0.127967</td>\n",
       "      <td>0.130736</td>\n",
       "      <td>0.069493</td>\n",
       "      <td>-0.011508</td>\n",
       "      <td>-0.012121</td>\n",
       "      <td>-0.377435</td>\n",
       "    </tr>\n",
       "    <tr>\n",
       "      <th>rate_marriage</th>\n",
       "      <td>0.264258</td>\n",
       "      <td>1.000000</td>\n",
       "      <td>-0.111127</td>\n",
       "      <td>-0.128978</td>\n",
       "      <td>-0.129161</td>\n",
       "      <td>0.078794</td>\n",
       "      <td>0.079869</td>\n",
       "      <td>0.039528</td>\n",
       "      <td>0.027745</td>\n",
       "      <td>-0.178068</td>\n",
       "    </tr>\n",
       "    <tr>\n",
       "      <th>age</th>\n",
       "      <td>-0.108447</td>\n",
       "      <td>-0.111127</td>\n",
       "      <td>1.000000</td>\n",
       "      <td>0.894082</td>\n",
       "      <td>0.673902</td>\n",
       "      <td>0.136598</td>\n",
       "      <td>0.027960</td>\n",
       "      <td>0.106127</td>\n",
       "      <td>0.162567</td>\n",
       "      <td>-0.089964</td>\n",
       "    </tr>\n",
       "    <tr>\n",
       "      <th>yrs_married</th>\n",
       "      <td>-0.142873</td>\n",
       "      <td>-0.128978</td>\n",
       "      <td>0.894082</td>\n",
       "      <td>1.000000</td>\n",
       "      <td>0.772806</td>\n",
       "      <td>0.132683</td>\n",
       "      <td>-0.109058</td>\n",
       "      <td>0.041782</td>\n",
       "      <td>0.128135</td>\n",
       "      <td>-0.087737</td>\n",
       "    </tr>\n",
       "    <tr>\n",
       "      <th>children</th>\n",
       "      <td>-0.127967</td>\n",
       "      <td>-0.129161</td>\n",
       "      <td>0.673902</td>\n",
       "      <td>0.772806</td>\n",
       "      <td>1.000000</td>\n",
       "      <td>0.141845</td>\n",
       "      <td>-0.141918</td>\n",
       "      <td>-0.015068</td>\n",
       "      <td>0.086660</td>\n",
       "      <td>-0.070278</td>\n",
       "    </tr>\n",
       "    <tr>\n",
       "      <th>religious</th>\n",
       "      <td>0.130736</td>\n",
       "      <td>0.078794</td>\n",
       "      <td>0.136598</td>\n",
       "      <td>0.132683</td>\n",
       "      <td>0.141845</td>\n",
       "      <td>1.000000</td>\n",
       "      <td>0.032245</td>\n",
       "      <td>0.035746</td>\n",
       "      <td>0.004061</td>\n",
       "      <td>-0.125933</td>\n",
       "    </tr>\n",
       "    <tr>\n",
       "      <th>educ</th>\n",
       "      <td>0.069493</td>\n",
       "      <td>0.079869</td>\n",
       "      <td>0.027960</td>\n",
       "      <td>-0.109058</td>\n",
       "      <td>-0.141918</td>\n",
       "      <td>0.032245</td>\n",
       "      <td>1.000000</td>\n",
       "      <td>0.382286</td>\n",
       "      <td>0.183932</td>\n",
       "      <td>-0.017740</td>\n",
       "    </tr>\n",
       "    <tr>\n",
       "      <th>occupation</th>\n",
       "      <td>-0.011508</td>\n",
       "      <td>0.039528</td>\n",
       "      <td>0.106127</td>\n",
       "      <td>0.041782</td>\n",
       "      <td>-0.015068</td>\n",
       "      <td>0.035746</td>\n",
       "      <td>0.382286</td>\n",
       "      <td>1.000000</td>\n",
       "      <td>0.201156</td>\n",
       "      <td>0.004469</td>\n",
       "    </tr>\n",
       "    <tr>\n",
       "      <th>occupation_husb</th>\n",
       "      <td>-0.012121</td>\n",
       "      <td>0.027745</td>\n",
       "      <td>0.162567</td>\n",
       "      <td>0.128135</td>\n",
       "      <td>0.086660</td>\n",
       "      <td>0.004061</td>\n",
       "      <td>0.183932</td>\n",
       "      <td>0.201156</td>\n",
       "      <td>1.000000</td>\n",
       "      <td>-0.015614</td>\n",
       "    </tr>\n",
       "    <tr>\n",
       "      <th>affairs</th>\n",
       "      <td>-0.377435</td>\n",
       "      <td>-0.178068</td>\n",
       "      <td>-0.089964</td>\n",
       "      <td>-0.087737</td>\n",
       "      <td>-0.070278</td>\n",
       "      <td>-0.125933</td>\n",
       "      <td>-0.017740</td>\n",
       "      <td>0.004469</td>\n",
       "      <td>-0.015614</td>\n",
       "      <td>1.000000</td>\n",
       "    </tr>\n",
       "  </tbody>\n",
       "</table>\n",
       "</div>"
      ],
      "text/plain": [
       "                 Unnamed: 0  rate_marriage       age  yrs_married  children  \\\n",
       "Unnamed: 0         1.000000       0.264258 -0.108447    -0.142873 -0.127967   \n",
       "rate_marriage      0.264258       1.000000 -0.111127    -0.128978 -0.129161   \n",
       "age               -0.108447      -0.111127  1.000000     0.894082  0.673902   \n",
       "yrs_married       -0.142873      -0.128978  0.894082     1.000000  0.772806   \n",
       "children          -0.127967      -0.129161  0.673902     0.772806  1.000000   \n",
       "religious          0.130736       0.078794  0.136598     0.132683  0.141845   \n",
       "educ               0.069493       0.079869  0.027960    -0.109058 -0.141918   \n",
       "occupation        -0.011508       0.039528  0.106127     0.041782 -0.015068   \n",
       "occupation_husb   -0.012121       0.027745  0.162567     0.128135  0.086660   \n",
       "affairs           -0.377435      -0.178068 -0.089964    -0.087737 -0.070278   \n",
       "\n",
       "                 religious      educ  occupation  occupation_husb   affairs  \n",
       "Unnamed: 0        0.130736  0.069493   -0.011508        -0.012121 -0.377435  \n",
       "rate_marriage     0.078794  0.079869    0.039528         0.027745 -0.178068  \n",
       "age               0.136598  0.027960    0.106127         0.162567 -0.089964  \n",
       "yrs_married       0.132683 -0.109058    0.041782         0.128135 -0.087737  \n",
       "children          0.141845 -0.141918   -0.015068         0.086660 -0.070278  \n",
       "religious         1.000000  0.032245    0.035746         0.004061 -0.125933  \n",
       "educ              0.032245  1.000000    0.382286         0.183932 -0.017740  \n",
       "occupation        0.035746  0.382286    1.000000         0.201156  0.004469  \n",
       "occupation_husb   0.004061  0.183932    0.201156         1.000000 -0.015614  \n",
       "affairs          -0.125933 -0.017740    0.004469        -0.015614  1.000000  "
      ]
     },
     "execution_count": 6,
     "metadata": {},
     "output_type": "execute_result"
    }
   ],
   "source": [
    "df.corr(method='pearson')"
   ]
  },
  {
   "cell_type": "code",
   "execution_count": 7,
   "metadata": {},
   "outputs": [
    {
     "data": {
      "text/html": [
       "<div>\n",
       "<style scoped>\n",
       "    .dataframe tbody tr th:only-of-type {\n",
       "        vertical-align: middle;\n",
       "    }\n",
       "\n",
       "    .dataframe tbody tr th {\n",
       "        vertical-align: top;\n",
       "    }\n",
       "\n",
       "    .dataframe thead th {\n",
       "        text-align: right;\n",
       "    }\n",
       "</style>\n",
       "<table border=\"1\" class=\"dataframe\">\n",
       "  <thead>\n",
       "    <tr style=\"text-align: right;\">\n",
       "      <th></th>\n",
       "      <th>Unnamed: 0</th>\n",
       "      <th>rate_marriage</th>\n",
       "      <th>age</th>\n",
       "      <th>yrs_married</th>\n",
       "      <th>children</th>\n",
       "      <th>religious</th>\n",
       "      <th>educ</th>\n",
       "      <th>occupation</th>\n",
       "      <th>occupation_husb</th>\n",
       "      <th>affairs</th>\n",
       "    </tr>\n",
       "  </thead>\n",
       "  <tbody>\n",
       "    <tr>\n",
       "      <th>Unnamed: 0</th>\n",
       "      <td>1.000000</td>\n",
       "      <td>0.257352</td>\n",
       "      <td>-0.118334</td>\n",
       "      <td>-0.163918</td>\n",
       "      <td>-0.139256</td>\n",
       "      <td>0.128167</td>\n",
       "      <td>0.071235</td>\n",
       "      <td>-0.001055</td>\n",
       "      <td>-0.011226</td>\n",
       "      <td>-0.790531</td>\n",
       "    </tr>\n",
       "    <tr>\n",
       "      <th>rate_marriage</th>\n",
       "      <td>0.257352</td>\n",
       "      <td>1.000000</td>\n",
       "      <td>-0.099419</td>\n",
       "      <td>-0.138307</td>\n",
       "      <td>-0.135559</td>\n",
       "      <td>0.085139</td>\n",
       "      <td>0.081484</td>\n",
       "      <td>0.043425</td>\n",
       "      <td>0.033114</td>\n",
       "      <td>-0.324958</td>\n",
       "    </tr>\n",
       "    <tr>\n",
       "      <th>age</th>\n",
       "      <td>-0.118334</td>\n",
       "      <td>-0.099419</td>\n",
       "      <td>1.000000</td>\n",
       "      <td>0.863842</td>\n",
       "      <td>0.678820</td>\n",
       "      <td>0.125024</td>\n",
       "      <td>0.020795</td>\n",
       "      <td>0.115983</td>\n",
       "      <td>0.177311</td>\n",
       "      <td>0.105706</td>\n",
       "    </tr>\n",
       "    <tr>\n",
       "      <th>yrs_married</th>\n",
       "      <td>-0.163918</td>\n",
       "      <td>-0.138307</td>\n",
       "      <td>0.863842</td>\n",
       "      <td>1.000000</td>\n",
       "      <td>0.795219</td>\n",
       "      <td>0.115750</td>\n",
       "      <td>-0.121690</td>\n",
       "      <td>0.039858</td>\n",
       "      <td>0.139457</td>\n",
       "      <td>0.172455</td>\n",
       "    </tr>\n",
       "    <tr>\n",
       "      <th>children</th>\n",
       "      <td>-0.139256</td>\n",
       "      <td>-0.135559</td>\n",
       "      <td>0.678820</td>\n",
       "      <td>0.795219</td>\n",
       "      <td>1.000000</td>\n",
       "      <td>0.131155</td>\n",
       "      <td>-0.163694</td>\n",
       "      <td>-0.015865</td>\n",
       "      <td>0.084213</td>\n",
       "      <td>0.131229</td>\n",
       "    </tr>\n",
       "    <tr>\n",
       "      <th>religious</th>\n",
       "      <td>0.128167</td>\n",
       "      <td>0.085139</td>\n",
       "      <td>0.125024</td>\n",
       "      <td>0.115750</td>\n",
       "      <td>0.131155</td>\n",
       "      <td>1.000000</td>\n",
       "      <td>0.027973</td>\n",
       "      <td>0.039630</td>\n",
       "      <td>0.002964</td>\n",
       "      <td>-0.140468</td>\n",
       "    </tr>\n",
       "    <tr>\n",
       "      <th>educ</th>\n",
       "      <td>0.071235</td>\n",
       "      <td>0.081484</td>\n",
       "      <td>0.020795</td>\n",
       "      <td>-0.121690</td>\n",
       "      <td>-0.163694</td>\n",
       "      <td>0.027973</td>\n",
       "      <td>1.000000</td>\n",
       "      <td>0.417784</td>\n",
       "      <td>0.195873</td>\n",
       "      <td>-0.066809</td>\n",
       "    </tr>\n",
       "    <tr>\n",
       "      <th>occupation</th>\n",
       "      <td>-0.001055</td>\n",
       "      <td>0.043425</td>\n",
       "      <td>0.115983</td>\n",
       "      <td>0.039858</td>\n",
       "      <td>-0.015865</td>\n",
       "      <td>0.039630</td>\n",
       "      <td>0.417784</td>\n",
       "      <td>1.000000</td>\n",
       "      <td>0.202511</td>\n",
       "      <td>0.012616</td>\n",
       "    </tr>\n",
       "    <tr>\n",
       "      <th>occupation_husb</th>\n",
       "      <td>-0.011226</td>\n",
       "      <td>0.033114</td>\n",
       "      <td>0.177311</td>\n",
       "      <td>0.139457</td>\n",
       "      <td>0.084213</td>\n",
       "      <td>0.002964</td>\n",
       "      <td>0.195873</td>\n",
       "      <td>0.202511</td>\n",
       "      <td>1.000000</td>\n",
       "      <td>0.007177</td>\n",
       "    </tr>\n",
       "    <tr>\n",
       "      <th>affairs</th>\n",
       "      <td>-0.790531</td>\n",
       "      <td>-0.324958</td>\n",
       "      <td>0.105706</td>\n",
       "      <td>0.172455</td>\n",
       "      <td>0.131229</td>\n",
       "      <td>-0.140468</td>\n",
       "      <td>-0.066809</td>\n",
       "      <td>0.012616</td>\n",
       "      <td>0.007177</td>\n",
       "      <td>1.000000</td>\n",
       "    </tr>\n",
       "  </tbody>\n",
       "</table>\n",
       "</div>"
      ],
      "text/plain": [
       "                 Unnamed: 0  rate_marriage       age  yrs_married  children  \\\n",
       "Unnamed: 0         1.000000       0.257352 -0.118334    -0.163918 -0.139256   \n",
       "rate_marriage      0.257352       1.000000 -0.099419    -0.138307 -0.135559   \n",
       "age               -0.118334      -0.099419  1.000000     0.863842  0.678820   \n",
       "yrs_married       -0.163918      -0.138307  0.863842     1.000000  0.795219   \n",
       "children          -0.139256      -0.135559  0.678820     0.795219  1.000000   \n",
       "religious          0.128167       0.085139  0.125024     0.115750  0.131155   \n",
       "educ               0.071235       0.081484  0.020795    -0.121690 -0.163694   \n",
       "occupation        -0.001055       0.043425  0.115983     0.039858 -0.015865   \n",
       "occupation_husb   -0.011226       0.033114  0.177311     0.139457  0.084213   \n",
       "affairs           -0.790531      -0.324958  0.105706     0.172455  0.131229   \n",
       "\n",
       "                 religious      educ  occupation  occupation_husb   affairs  \n",
       "Unnamed: 0        0.128167  0.071235   -0.001055        -0.011226 -0.790531  \n",
       "rate_marriage     0.085139  0.081484    0.043425         0.033114 -0.324958  \n",
       "age               0.125024  0.020795    0.115983         0.177311  0.105706  \n",
       "yrs_married       0.115750 -0.121690    0.039858         0.139457  0.172455  \n",
       "children          0.131155 -0.163694   -0.015865         0.084213  0.131229  \n",
       "religious         1.000000  0.027973    0.039630         0.002964 -0.140468  \n",
       "educ              0.027973  1.000000    0.417784         0.195873 -0.066809  \n",
       "occupation        0.039630  0.417784    1.000000         0.202511  0.012616  \n",
       "occupation_husb   0.002964  0.195873    0.202511         1.000000  0.007177  \n",
       "affairs          -0.140468 -0.066809    0.012616         0.007177  1.000000  "
      ]
     },
     "execution_count": 7,
     "metadata": {},
     "output_type": "execute_result"
    }
   ],
   "source": [
    "df.corr(method ='spearman') "
   ]
  },
  {
   "cell_type": "markdown",
   "metadata": {},
   "source": [
    "# Covariance"
   ]
  },
  {
   "cell_type": "code",
   "execution_count": 8,
   "metadata": {},
   "outputs": [
    {
     "data": {
      "text/html": [
       "<div>\n",
       "<style scoped>\n",
       "    .dataframe tbody tr th:only-of-type {\n",
       "        vertical-align: middle;\n",
       "    }\n",
       "\n",
       "    .dataframe tbody tr th {\n",
       "        vertical-align: top;\n",
       "    }\n",
       "\n",
       "    .dataframe thead th {\n",
       "        text-align: right;\n",
       "    }\n",
       "</style>\n",
       "<table border=\"1\" class=\"dataframe\">\n",
       "  <thead>\n",
       "    <tr style=\"text-align: right;\">\n",
       "      <th></th>\n",
       "      <th>Unnamed: 0</th>\n",
       "      <th>rate_marriage</th>\n",
       "      <th>age</th>\n",
       "      <th>yrs_married</th>\n",
       "      <th>children</th>\n",
       "      <th>religious</th>\n",
       "      <th>educ</th>\n",
       "      <th>occupation</th>\n",
       "      <th>occupation_husb</th>\n",
       "      <th>affairs</th>\n",
       "    </tr>\n",
       "  </thead>\n",
       "  <tbody>\n",
       "    <tr>\n",
       "      <th>Unnamed: 0</th>\n",
       "      <td>3.377694e+06</td>\n",
       "      <td>466.934643</td>\n",
       "      <td>-1364.841123</td>\n",
       "      <td>-1911.605577</td>\n",
       "      <td>-337.129262</td>\n",
       "      <td>211.047840</td>\n",
       "      <td>278.170306</td>\n",
       "      <td>-19.931343</td>\n",
       "      <td>-29.992773</td>\n",
       "      <td>-1528.413844</td>\n",
       "    </tr>\n",
       "    <tr>\n",
       "      <th>rate_marriage</th>\n",
       "      <td>4.669346e+02</td>\n",
       "      <td>0.924347</td>\n",
       "      <td>-0.731632</td>\n",
       "      <td>-0.902762</td>\n",
       "      <td>-0.178008</td>\n",
       "      <td>0.066541</td>\n",
       "      <td>0.167245</td>\n",
       "      <td>0.035814</td>\n",
       "      <td>0.035915</td>\n",
       "      <td>-0.377218</td>\n",
       "    </tr>\n",
       "    <tr>\n",
       "      <th>age</th>\n",
       "      <td>-1.364841e+03</td>\n",
       "      <td>-0.731632</td>\n",
       "      <td>46.893486</td>\n",
       "      <td>44.573021</td>\n",
       "      <td>6.615184</td>\n",
       "      <td>0.821633</td>\n",
       "      <td>0.417014</td>\n",
       "      <td>0.684882</td>\n",
       "      <td>1.498908</td>\n",
       "      <td>-1.357419</td>\n",
       "    </tr>\n",
       "    <tr>\n",
       "      <th>yrs_married</th>\n",
       "      <td>-1.911606e+03</td>\n",
       "      <td>-0.902762</td>\n",
       "      <td>44.573021</td>\n",
       "      <td>53.000147</td>\n",
       "      <td>8.064876</td>\n",
       "      <td>0.848457</td>\n",
       "      <td>-1.729237</td>\n",
       "      <td>0.286654</td>\n",
       "      <td>1.256008</td>\n",
       "      <td>-1.407380</td>\n",
       "    </tr>\n",
       "    <tr>\n",
       "      <th>children</th>\n",
       "      <td>-3.371293e+02</td>\n",
       "      <td>-0.178008</td>\n",
       "      <td>6.615184</td>\n",
       "      <td>8.064876</td>\n",
       "      <td>2.054839</td>\n",
       "      <td>0.178599</td>\n",
       "      <td>-0.443083</td>\n",
       "      <td>-0.020355</td>\n",
       "      <td>0.167261</td>\n",
       "      <td>-0.221972</td>\n",
       "    </tr>\n",
       "    <tr>\n",
       "      <th>religious</th>\n",
       "      <td>2.110478e+02</td>\n",
       "      <td>0.066541</td>\n",
       "      <td>0.821633</td>\n",
       "      <td>0.848457</td>\n",
       "      <td>0.178599</td>\n",
       "      <td>0.771532</td>\n",
       "      <td>0.061687</td>\n",
       "      <td>0.029590</td>\n",
       "      <td>0.004802</td>\n",
       "      <td>-0.243728</td>\n",
       "    </tr>\n",
       "    <tr>\n",
       "      <th>educ</th>\n",
       "      <td>2.781703e+02</td>\n",
       "      <td>0.167245</td>\n",
       "      <td>0.417014</td>\n",
       "      <td>-1.729237</td>\n",
       "      <td>-0.443083</td>\n",
       "      <td>0.061687</td>\n",
       "      <td>4.743695</td>\n",
       "      <td>0.784661</td>\n",
       "      <td>0.539389</td>\n",
       "      <td>-0.085133</td>\n",
       "    </tr>\n",
       "    <tr>\n",
       "      <th>occupation</th>\n",
       "      <td>-1.993134e+01</td>\n",
       "      <td>0.035814</td>\n",
       "      <td>0.684882</td>\n",
       "      <td>0.286654</td>\n",
       "      <td>-0.020355</td>\n",
       "      <td>0.029590</td>\n",
       "      <td>0.784661</td>\n",
       "      <td>0.888115</td>\n",
       "      <td>0.255242</td>\n",
       "      <td>0.009279</td>\n",
       "    </tr>\n",
       "    <tr>\n",
       "      <th>occupation_husb</th>\n",
       "      <td>-2.999277e+01</td>\n",
       "      <td>0.035915</td>\n",
       "      <td>1.498908</td>\n",
       "      <td>1.256008</td>\n",
       "      <td>0.167261</td>\n",
       "      <td>0.004802</td>\n",
       "      <td>0.539389</td>\n",
       "      <td>0.255242</td>\n",
       "      <td>1.812888</td>\n",
       "      <td>-0.046322</td>\n",
       "    </tr>\n",
       "    <tr>\n",
       "      <th>affairs</th>\n",
       "      <td>-1.528414e+03</td>\n",
       "      <td>-0.377218</td>\n",
       "      <td>-1.357419</td>\n",
       "      <td>-1.407380</td>\n",
       "      <td>-0.221972</td>\n",
       "      <td>-0.243728</td>\n",
       "      <td>-0.085133</td>\n",
       "      <td>0.009279</td>\n",
       "      <td>-0.046322</td>\n",
       "      <td>4.854856</td>\n",
       "    </tr>\n",
       "  </tbody>\n",
       "</table>\n",
       "</div>"
      ],
      "text/plain": [
       "                   Unnamed: 0  rate_marriage          age  yrs_married  \\\n",
       "Unnamed: 0       3.377694e+06     466.934643 -1364.841123 -1911.605577   \n",
       "rate_marriage    4.669346e+02       0.924347    -0.731632    -0.902762   \n",
       "age             -1.364841e+03      -0.731632    46.893486    44.573021   \n",
       "yrs_married     -1.911606e+03      -0.902762    44.573021    53.000147   \n",
       "children        -3.371293e+02      -0.178008     6.615184     8.064876   \n",
       "religious        2.110478e+02       0.066541     0.821633     0.848457   \n",
       "educ             2.781703e+02       0.167245     0.417014    -1.729237   \n",
       "occupation      -1.993134e+01       0.035814     0.684882     0.286654   \n",
       "occupation_husb -2.999277e+01       0.035915     1.498908     1.256008   \n",
       "affairs         -1.528414e+03      -0.377218    -1.357419    -1.407380   \n",
       "\n",
       "                   children   religious        educ  occupation  \\\n",
       "Unnamed: 0      -337.129262  211.047840  278.170306  -19.931343   \n",
       "rate_marriage     -0.178008    0.066541    0.167245    0.035814   \n",
       "age                6.615184    0.821633    0.417014    0.684882   \n",
       "yrs_married        8.064876    0.848457   -1.729237    0.286654   \n",
       "children           2.054839    0.178599   -0.443083   -0.020355   \n",
       "religious          0.178599    0.771532    0.061687    0.029590   \n",
       "educ              -0.443083    0.061687    4.743695    0.784661   \n",
       "occupation        -0.020355    0.029590    0.784661    0.888115   \n",
       "occupation_husb    0.167261    0.004802    0.539389    0.255242   \n",
       "affairs           -0.221972   -0.243728   -0.085133    0.009279   \n",
       "\n",
       "                 occupation_husb      affairs  \n",
       "Unnamed: 0            -29.992773 -1528.413844  \n",
       "rate_marriage           0.035915    -0.377218  \n",
       "age                     1.498908    -1.357419  \n",
       "yrs_married             1.256008    -1.407380  \n",
       "children                0.167261    -0.221972  \n",
       "religious               0.004802    -0.243728  \n",
       "educ                    0.539389    -0.085133  \n",
       "occupation              0.255242     0.009279  \n",
       "occupation_husb         1.812888    -0.046322  \n",
       "affairs                -0.046322     4.854856  "
      ]
     },
     "execution_count": 8,
     "metadata": {},
     "output_type": "execute_result"
    }
   ],
   "source": [
    "df.cov()"
   ]
  },
  {
   "cell_type": "markdown",
   "metadata": {},
   "source": [
    "# Drop  some tables"
   ]
  },
  {
   "cell_type": "code",
   "execution_count": 9,
   "metadata": {},
   "outputs": [],
   "source": [
    "df.drop(['rate_marriage'], axis=1, inplace=True)"
   ]
  },
  {
   "cell_type": "code",
   "execution_count": 10,
   "metadata": {},
   "outputs": [
    {
     "data": {
      "text/html": [
       "<div>\n",
       "<style scoped>\n",
       "    .dataframe tbody tr th:only-of-type {\n",
       "        vertical-align: middle;\n",
       "    }\n",
       "\n",
       "    .dataframe tbody tr th {\n",
       "        vertical-align: top;\n",
       "    }\n",
       "\n",
       "    .dataframe thead th {\n",
       "        text-align: right;\n",
       "    }\n",
       "</style>\n",
       "<table border=\"1\" class=\"dataframe\">\n",
       "  <thead>\n",
       "    <tr style=\"text-align: right;\">\n",
       "      <th></th>\n",
       "      <th>Unnamed: 0</th>\n",
       "      <th>age</th>\n",
       "      <th>yrs_married</th>\n",
       "      <th>children</th>\n",
       "      <th>religious</th>\n",
       "      <th>educ</th>\n",
       "      <th>occupation</th>\n",
       "      <th>occupation_husb</th>\n",
       "      <th>affairs</th>\n",
       "    </tr>\n",
       "  </thead>\n",
       "  <tbody>\n",
       "    <tr>\n",
       "      <th>0</th>\n",
       "      <td>0</td>\n",
       "      <td>32.0</td>\n",
       "      <td>9.0</td>\n",
       "      <td>3.0</td>\n",
       "      <td>3.0</td>\n",
       "      <td>17.0</td>\n",
       "      <td>2.0</td>\n",
       "      <td>5.0</td>\n",
       "      <td>0.111111</td>\n",
       "    </tr>\n",
       "    <tr>\n",
       "      <th>1</th>\n",
       "      <td>1</td>\n",
       "      <td>27.0</td>\n",
       "      <td>13.0</td>\n",
       "      <td>3.0</td>\n",
       "      <td>1.0</td>\n",
       "      <td>14.0</td>\n",
       "      <td>3.0</td>\n",
       "      <td>4.0</td>\n",
       "      <td>3.230769</td>\n",
       "    </tr>\n",
       "    <tr>\n",
       "      <th>2</th>\n",
       "      <td>2</td>\n",
       "      <td>22.0</td>\n",
       "      <td>2.5</td>\n",
       "      <td>0.0</td>\n",
       "      <td>1.0</td>\n",
       "      <td>16.0</td>\n",
       "      <td>3.0</td>\n",
       "      <td>5.0</td>\n",
       "      <td>1.400000</td>\n",
       "    </tr>\n",
       "    <tr>\n",
       "      <th>3</th>\n",
       "      <td>3</td>\n",
       "      <td>37.0</td>\n",
       "      <td>16.5</td>\n",
       "      <td>4.0</td>\n",
       "      <td>3.0</td>\n",
       "      <td>16.0</td>\n",
       "      <td>5.0</td>\n",
       "      <td>5.0</td>\n",
       "      <td>0.727273</td>\n",
       "    </tr>\n",
       "    <tr>\n",
       "      <th>4</th>\n",
       "      <td>4</td>\n",
       "      <td>27.0</td>\n",
       "      <td>9.0</td>\n",
       "      <td>1.0</td>\n",
       "      <td>1.0</td>\n",
       "      <td>14.0</td>\n",
       "      <td>3.0</td>\n",
       "      <td>4.0</td>\n",
       "      <td>4.666666</td>\n",
       "    </tr>\n",
       "  </tbody>\n",
       "</table>\n",
       "</div>"
      ],
      "text/plain": [
       "   Unnamed: 0   age  yrs_married  children  religious  educ  occupation  \\\n",
       "0           0  32.0          9.0       3.0        3.0  17.0         2.0   \n",
       "1           1  27.0         13.0       3.0        1.0  14.0         3.0   \n",
       "2           2  22.0          2.5       0.0        1.0  16.0         3.0   \n",
       "3           3  37.0         16.5       4.0        3.0  16.0         5.0   \n",
       "4           4  27.0          9.0       1.0        1.0  14.0         3.0   \n",
       "\n",
       "   occupation_husb   affairs  \n",
       "0              5.0  0.111111  \n",
       "1              4.0  3.230769  \n",
       "2              5.0  1.400000  \n",
       "3              5.0  0.727273  \n",
       "4              4.0  4.666666  "
      ]
     },
     "execution_count": 10,
     "metadata": {},
     "output_type": "execute_result"
    }
   ],
   "source": [
    "df.head(5)"
   ]
  },
  {
   "cell_type": "markdown",
   "metadata": {},
   "source": [
    "# creating x,y and splitting the dataset"
   ]
  },
  {
   "cell_type": "code",
   "execution_count": 11,
   "metadata": {},
   "outputs": [],
   "source": [
    "y = df.age.copy()\n",
    "x = df.drop(['age'], axis=1)"
   ]
  },
  {
   "cell_type": "code",
   "execution_count": 12,
   "metadata": {},
   "outputs": [],
   "source": [
    "x_train, x_test, y_train, y_test = train_test_split(x, y, test_size=0.25, random_state=123)"
   ]
  },
  {
   "cell_type": "markdown",
   "metadata": {},
   "source": [
    "# Scalling features"
   ]
  },
  {
   "cell_type": "code",
   "execution_count": 13,
   "metadata": {},
   "outputs": [],
   "source": [
    "from sklearn.preprocessing import MinMaxScaler"
   ]
  },
  {
   "cell_type": "code",
   "execution_count": 14,
   "metadata": {},
   "outputs": [],
   "source": [
    "scaler = MinMaxScaler()\n",
    "scaler.fit(x_train)\n",
    "x_train = scaler.transform(x_train)\n",
    "x_test = scaler.transform(x_test)"
   ]
  },
  {
   "cell_type": "markdown",
   "metadata": {},
   "source": [
    "# KNN Regression Model"
   ]
  },
  {
   "cell_type": "code",
   "execution_count": 15,
   "metadata": {},
   "outputs": [],
   "source": [
    "from sklearn.neighbors import KNeighborsRegressor"
   ]
  },
  {
   "cell_type": "code",
   "execution_count": 16,
   "metadata": {},
   "outputs": [],
   "source": [
    "knn_reg = KNeighborsRegressor()\n",
    "knn_reg = knn_reg.fit(x_train, y_train)\n",
    "knn_score=knn_reg.score(x_train, y_train)"
   ]
  },
  {
   "cell_type": "code",
   "execution_count": 17,
   "metadata": {},
   "outputs": [
    {
     "name": "stdout",
     "output_type": "stream",
     "text": [
      "    Score: 0.8431115556341338\n",
      "    MAE: 2.3870603015075376\n",
      "    RMSE: 3.1604218597614926\n",
      "    R2: 0.7838052822117788\n"
     ]
    }
   ],
   "source": [
    "y_pred = knn_reg.predict(x_test)\n",
    "knn_mae = mean_absolute_error(y_test, y_pred)\n",
    "knn_rmse = sqrt(mean_squared_error(y_test, y_pred))\n",
    "knn_r2 = r2_score(y_test, y_pred)\n",
    "print(\"    Score:\", knn_score)\n",
    "print(\"    MAE:\", knn_mae)\n",
    "print(\"    RMSE:\", knn_rmse)\n",
    "print(\"    R2:\", knn_r2)"
   ]
  },
  {
   "cell_type": "markdown",
   "metadata": {},
   "source": [
    "# Linear regression"
   ]
  },
  {
   "cell_type": "code",
   "execution_count": 18,
   "metadata": {},
   "outputs": [],
   "source": [
    "from sklearn.linear_model import LinearRegression"
   ]
  },
  {
   "cell_type": "code",
   "execution_count": 19,
   "metadata": {},
   "outputs": [],
   "source": [
    "lin_reg = LinearRegression()\n",
    "lin_reg = lin_reg.fit(x_train, y_train)\n",
    "lin_score=lin_reg.score(x_train, y_train)"
   ]
  },
  {
   "cell_type": "code",
   "execution_count": 20,
   "metadata": {},
   "outputs": [
    {
     "name": "stdout",
     "output_type": "stream",
     "text": [
      "    Score: 0.8155702273135307\n",
      "    MAE: 2.189845345435369\n",
      "    RMSE: 2.8836978377594242\n",
      "    R2: 0.8200074754715965\n"
     ]
    }
   ],
   "source": [
    "y_pred = lin_reg.predict(x_test)\n",
    "lin_mae = mean_absolute_error(y_test, y_pred)\n",
    "lin_rmse = sqrt(mean_squared_error(y_test, y_pred))\n",
    "lin_r2 = r2_score(y_test, y_pred)\n",
    "print(\"    Score:\", lin_score)\n",
    "print(\"    MAE:\", lin_mae)\n",
    "print(\"    RMSE:\", lin_rmse)\n",
    "print(\"    R2:\", lin_r2)"
   ]
  },
  {
   "cell_type": "markdown",
   "metadata": {},
   "source": [
    "# Random forest regression"
   ]
  },
  {
   "cell_type": "code",
   "execution_count": 21,
   "metadata": {},
   "outputs": [],
   "source": [
    "from sklearn.ensemble import RandomForestRegressor"
   ]
  },
  {
   "cell_type": "code",
   "execution_count": 22,
   "metadata": {},
   "outputs": [],
   "source": [
    "regr = RandomForestRegressor()\n",
    "regr = regr.fit(x_train, y_train)\n",
    "regr_score=regr.score(x_train, y_train)"
   ]
  },
  {
   "cell_type": "code",
   "execution_count": 23,
   "metadata": {},
   "outputs": [
    {
     "name": "stdout",
     "output_type": "stream",
     "text": [
      "    Score: 0.9712910842136219\n",
      "    MAE: 2.3114290201005026\n",
      "    RMSE: 3.047378643788476\n",
      "    R2:  0.7989945633597714\n"
     ]
    }
   ],
   "source": [
    "y_pred = regr.predict(x_test)\n",
    "regr_mae = mean_absolute_error(y_test, y_pred)\n",
    "regr_rmse = sqrt(mean_squared_error(y_test, y_pred))\n",
    "regr_r2 = r2_score(y_test, y_pred)\n",
    "print(\"    Score:\",regr_score)\n",
    "print(\"    MAE:\", regr_mae)\n",
    "print(\"    RMSE:\", regr_rmse)\n",
    "print(\"    R2: \", regr_r2)"
   ]
  },
  {
   "cell_type": "markdown",
   "metadata": {},
   "source": [
    "# Support Vector machine"
   ]
  },
  {
   "cell_type": "code",
   "execution_count": 24,
   "metadata": {},
   "outputs": [],
   "source": [
    "from sklearn import svm"
   ]
  },
  {
   "cell_type": "code",
   "execution_count": 25,
   "metadata": {},
   "outputs": [],
   "source": [
    "svm_reg = svm.SVR()\n",
    "svm_reg.fit(x_train, y_train)\n",
    "svm_score=svm_reg.score(x_train, y_train)"
   ]
  },
  {
   "cell_type": "code",
   "execution_count": 26,
   "metadata": {},
   "outputs": [
    {
     "name": "stdout",
     "output_type": "stream",
     "text": [
      "    Score: 0.813388972372544\n",
      "    MAE: 2.061736793942822\n",
      "    RMSE: 2.9235701028425667\n",
      "    R2: 0.814995629250466\n"
     ]
    }
   ],
   "source": [
    "y_pred = svm_reg.predict(x_test)\n",
    "svm_mae = mean_absolute_error(y_test, y_pred)\n",
    "svm_rmse = sqrt(mean_squared_error(y_test, y_pred))\n",
    "svm_r2 = r2_score(y_test, y_pred)\n",
    "print(\"    Score:\", svm_score)\n",
    "print(\"    MAE:\", svm_mae)\n",
    "print(\"    RMSE:\", svm_rmse)\n",
    "print(\"    R2:\", svm_r2)"
   ]
  },
  {
   "cell_type": "markdown",
   "metadata": {},
   "source": [
    "# PoissonRegressor"
   ]
  },
  {
   "cell_type": "code",
   "execution_count": 27,
   "metadata": {},
   "outputs": [],
   "source": [
    "from sklearn import linear_model"
   ]
  },
  {
   "cell_type": "code",
   "execution_count": 28,
   "metadata": {},
   "outputs": [],
   "source": [
    "poisson_reg = linear_model.PoissonRegressor()\n",
    "poisson_reg.fit(x_train, y_train)\n",
    "piosson_score=poisson_reg.score(x_train, y_train)"
   ]
  },
  {
   "cell_type": "code",
   "execution_count": 29,
   "metadata": {},
   "outputs": [
    {
     "name": "stdout",
     "output_type": "stream",
     "text": [
      "    Score: 0.7550206253833776\n",
      "    MAE: 2.6191238651601276\n",
      "    RMSE: 3.2350482465867874\n",
      "    R2: 0.7734748176318387\n"
     ]
    }
   ],
   "source": [
    "y_pred = poisson_reg.predict(x_test)\n",
    "piosson_mae = mean_absolute_error(y_test, y_pred)\n",
    "piosson_rmse = sqrt(mean_squared_error(y_test, y_pred))\n",
    "piosson_r2 = r2_score(y_test, y_pred)\n",
    "print(\"    Score:\", piosson_score)\n",
    "print(\"    MAE:\", piosson_mae)\n",
    "print(\"    RMSE:\", piosson_rmse)\n",
    "print(\"    R2:\", piosson_r2)"
   ]
  },
  {
   "cell_type": "markdown",
   "metadata": {},
   "source": [
    "# PLS regression"
   ]
  },
  {
   "cell_type": "code",
   "execution_count": 30,
   "metadata": {},
   "outputs": [],
   "source": [
    "from sklearn.cross_decomposition import PLSRegression"
   ]
  },
  {
   "cell_type": "code",
   "execution_count": 31,
   "metadata": {},
   "outputs": [],
   "source": [
    "pls = PLSRegression(n_components=2)\n",
    "pls.fit(x_train, y_train)\n",
    "pls_score=pls.score(x_train, y_train)"
   ]
  },
  {
   "cell_type": "code",
   "execution_count": 32,
   "metadata": {},
   "outputs": [
    {
     "name": "stdout",
     "output_type": "stream",
     "text": [
      "    Score: 0.7824688885058226\n",
      "    MAE: 2.4006509610418436\n",
      "    RMSE: 3.1308178089893492\n",
      "    R2: 0.7878365563767651\n"
     ]
    }
   ],
   "source": [
    "y_pred = pls.predict(x_test)\n",
    "pls_mae = mean_absolute_error(y_test, y_pred)\n",
    "pls_rmse = sqrt(mean_squared_error(y_test, y_pred))\n",
    "pls_r2 = r2_score(y_test, y_pred)\n",
    "print(\"    Score:\", pls_score)\n",
    "print(\"    MAE:\", pls_mae)\n",
    "print(\"    RMSE:\", pls_rmse)\n",
    "print(\"    R2:\", pls_r2)"
   ]
  },
  {
   "cell_type": "markdown",
   "metadata": {},
   "source": [
    "# Decision tree"
   ]
  },
  {
   "cell_type": "code",
   "execution_count": 33,
   "metadata": {},
   "outputs": [],
   "source": [
    "from sklearn import tree"
   ]
  },
  {
   "cell_type": "code",
   "execution_count": 34,
   "metadata": {},
   "outputs": [],
   "source": [
    "dt  = tree.DecisionTreeRegressor()\n",
    "dt.fit(x_train, y_train)\n",
    "dt_score=dt.score(x_train, y_train)"
   ]
  },
  {
   "cell_type": "code",
   "execution_count": 35,
   "metadata": {},
   "outputs": [
    {
     "name": "stdout",
     "output_type": "stream",
     "text": [
      "    Score: 1.0\n",
      "    MAE: 2.6485552763819094\n",
      "    RMSE: 4.069454329847377\n",
      "    R2: 0.6415510417721226\n"
     ]
    }
   ],
   "source": [
    "y_pred = dt.predict(x_test)\n",
    "dt_mae = mean_absolute_error(y_test, y_pred)\n",
    "dt_rmse = sqrt(mean_squared_error(y_test, y_pred))\n",
    "dt_r2 = r2_score(y_test, y_pred)\n",
    "print(\"    Score:\", dt_score)\n",
    "print(\"    MAE:\", dt_mae)\n",
    "print(\"    RMSE:\", dt_rmse)\n",
    "print(\"    R2:\", dt_r2)"
   ]
  },
  {
   "cell_type": "markdown",
   "metadata": {},
   "source": [
    "# AdaBoostRegressor"
   ]
  },
  {
   "cell_type": "code",
   "execution_count": 36,
   "metadata": {},
   "outputs": [],
   "source": [
    "from sklearn.ensemble import AdaBoostRegressor"
   ]
  },
  {
   "cell_type": "code",
   "execution_count": 37,
   "metadata": {},
   "outputs": [],
   "source": [
    "regr = AdaBoostRegressor()\n",
    "regr.fit(x_train, y_train)\n",
    "ada_score=regr.score(x_train, y_train)"
   ]
  },
  {
   "cell_type": "code",
   "execution_count": 38,
   "metadata": {},
   "outputs": [
    {
     "name": "stdout",
     "output_type": "stream",
     "text": [
      "    MAE 0.7822615829412558\n",
      "    MAE 2.6154522736231813\n",
      "    RMSE 3.144233307739365\n",
      "    R2 0.7860144276468338\n"
     ]
    }
   ],
   "source": [
    "y_pred = regr.predict(x_test)\n",
    "ada_mae = mean_absolute_error(y_test, y_pred)\n",
    "ada_rmse = sqrt(mean_squared_error(y_test, y_pred))\n",
    "ada_r2 = r2_score(y_test, y_pred)\n",
    "print(\"    MAE\", ada_score)\n",
    "print(\"    MAE\", ada_mae)\n",
    "print(\"    RMSE\", ada_rmse)\n",
    "print(\"    R2\", ada_r2)\n"
   ]
  },
  {
   "cell_type": "markdown",
   "metadata": {},
   "source": [
    "# Gradient-boosting trees"
   ]
  },
  {
   "cell_type": "code",
   "execution_count": 39,
   "metadata": {},
   "outputs": [],
   "source": [
    "from sklearn.ensemble import GradientBoostingRegressor"
   ]
  },
  {
   "cell_type": "code",
   "execution_count": 40,
   "metadata": {},
   "outputs": [],
   "source": [
    "reg = GradientBoostingRegressor()\n",
    "reg.fit(x_train, y_train)\n",
    "g_b_score=reg.score(x_train, y_train)"
   ]
  },
  {
   "cell_type": "code",
   "execution_count": 41,
   "metadata": {},
   "outputs": [
    {
     "name": "stdout",
     "output_type": "stream",
     "text": [
      "    Score: 0.8375384616754042\n",
      "    MAE: 2.1649667596923132\n",
      "    RMSE: 2.831341493478242\n",
      "    R2: 0.8264840221975034\n"
     ]
    }
   ],
   "source": [
    "y_pred = reg.predict(x_test)\n",
    "g_b_mae = mean_absolute_error(y_test, y_pred)\n",
    "g_b_rmse = sqrt(mean_squared_error(y_test, y_pred))\n",
    "g_b_r2 = r2_score(y_test, y_pred)\n",
    "print(\"    Score:\", g_b_score)\n",
    "print(\"    MAE:\", g_b_mae)\n",
    "print(\"    RMSE:\", g_b_rmse)\n",
    "print(\"    R2:\", g_b_r2)"
   ]
  },
  {
   "cell_type": "code",
   "execution_count": 42,
   "metadata": {},
   "outputs": [
    {
     "data": {
      "text/html": [
       "<div>\n",
       "<style scoped>\n",
       "    .dataframe tbody tr th:only-of-type {\n",
       "        vertical-align: middle;\n",
       "    }\n",
       "\n",
       "    .dataframe tbody tr th {\n",
       "        vertical-align: top;\n",
       "    }\n",
       "\n",
       "    .dataframe thead th {\n",
       "        text-align: right;\n",
       "    }\n",
       "</style>\n",
       "<table border=\"1\" class=\"dataframe\">\n",
       "  <thead>\n",
       "    <tr style=\"text-align: right;\">\n",
       "      <th></th>\n",
       "      <th>Model</th>\n",
       "      <th>MAE</th>\n",
       "      <th>RMSE</th>\n",
       "      <th>R2</th>\n",
       "    </tr>\n",
       "    <tr>\n",
       "      <th>Score</th>\n",
       "      <th></th>\n",
       "      <th></th>\n",
       "      <th></th>\n",
       "      <th></th>\n",
       "    </tr>\n",
       "  </thead>\n",
       "  <tbody>\n",
       "    <tr>\n",
       "      <th>1.000000</th>\n",
       "      <td>Decision Tree</td>\n",
       "      <td>2.648555</td>\n",
       "      <td>4.069454</td>\n",
       "      <td>0.641551</td>\n",
       "    </tr>\n",
       "    <tr>\n",
       "      <th>0.971291</th>\n",
       "      <td>Random Forest regrassion</td>\n",
       "      <td>2.311429</td>\n",
       "      <td>3.047379</td>\n",
       "      <td>0.798995</td>\n",
       "    </tr>\n",
       "    <tr>\n",
       "      <th>0.843112</th>\n",
       "      <td>KNN Regression Model</td>\n",
       "      <td>2.387060</td>\n",
       "      <td>3.160422</td>\n",
       "      <td>0.783805</td>\n",
       "    </tr>\n",
       "    <tr>\n",
       "      <th>0.837538</th>\n",
       "      <td>Gradient Bosting tree</td>\n",
       "      <td>2.164967</td>\n",
       "      <td>2.831341</td>\n",
       "      <td>0.826484</td>\n",
       "    </tr>\n",
       "    <tr>\n",
       "      <th>0.815570</th>\n",
       "      <td>Linear Regrassion</td>\n",
       "      <td>2.189845</td>\n",
       "      <td>2.883698</td>\n",
       "      <td>0.820007</td>\n",
       "    </tr>\n",
       "    <tr>\n",
       "      <th>0.813389</th>\n",
       "      <td>Support Vector Machine</td>\n",
       "      <td>2.061737</td>\n",
       "      <td>2.923570</td>\n",
       "      <td>0.814996</td>\n",
       "    </tr>\n",
       "    <tr>\n",
       "      <th>0.782469</th>\n",
       "      <td>PLS Regrassion</td>\n",
       "      <td>2.400651</td>\n",
       "      <td>3.130818</td>\n",
       "      <td>0.787837</td>\n",
       "    </tr>\n",
       "    <tr>\n",
       "      <th>0.782262</th>\n",
       "      <td>AdaBooster Regrassor</td>\n",
       "      <td>2.615452</td>\n",
       "      <td>3.144233</td>\n",
       "      <td>0.786014</td>\n",
       "    </tr>\n",
       "    <tr>\n",
       "      <th>0.755021</th>\n",
       "      <td>Poisson Regressor</td>\n",
       "      <td>2.619124</td>\n",
       "      <td>3.235048</td>\n",
       "      <td>0.773475</td>\n",
       "    </tr>\n",
       "  </tbody>\n",
       "</table>\n",
       "</div>"
      ],
      "text/plain": [
       "                             Model       MAE      RMSE        R2\n",
       "Score                                                           \n",
       "1.000000             Decision Tree  2.648555  4.069454  0.641551\n",
       "0.971291  Random Forest regrassion  2.311429  3.047379  0.798995\n",
       "0.843112      KNN Regression Model  2.387060  3.160422  0.783805\n",
       "0.837538     Gradient Bosting tree  2.164967  2.831341  0.826484\n",
       "0.815570         Linear Regrassion  2.189845  2.883698  0.820007\n",
       "0.813389    Support Vector Machine  2.061737  2.923570  0.814996\n",
       "0.782469            PLS Regrassion  2.400651  3.130818  0.787837\n",
       "0.782262      AdaBooster Regrassor  2.615452  3.144233  0.786014\n",
       "0.755021         Poisson Regressor  2.619124  3.235048  0.773475"
      ]
     },
     "execution_count": 42,
     "metadata": {},
     "output_type": "execute_result"
    }
   ],
   "source": [
    "results = pd.DataFrame({\n",
    "    'Model': ['KNN Regression Model','Linear Regrassion','Random Forest regrassion','Support Vector Machine','Poisson Regressor','PLS Regrassion','Decision Tree','AdaBooster Regrassor','Gradient Bosting tree'],\n",
    "    'Score':[knn_score,lin_score,regr_score,svm_score,piosson_score,pls_score,dt_score,ada_score,g_b_score],\n",
    "    'MAE':[knn_mae,lin_mae,regr_mae,svm_mae,piosson_mae,pls_mae,dt_mae,ada_mae,g_b_mae],\n",
    "    'RMSE':[knn_rmse,lin_rmse,regr_rmse,svm_rmse,piosson_rmse,pls_rmse,dt_rmse,ada_rmse,g_b_rmse],\n",
    "    'R2':[knn_r2,lin_r2,regr_r2,svm_r2,piosson_r2,pls_r2,dt_r2,ada_r2,g_b_r2]\n",
    "})\n",
    "\n",
    "result_df = results.sort_values(by='Score',ascending=False)\n",
    "result_df = result_df.set_index('Score')\n",
    "result_df"
   ]
  },
  {
   "cell_type": "code",
   "execution_count": 43,
   "metadata": {},
   "outputs": [
    {
     "data": {
      "image/png": "[encoded data removed]",
      "text/plain": [
       "<Figure size 432x288 with 1 Axes>"
      ]
     },
     "metadata": {
      "needs_background": "light"
     },
     "output_type": "display_data"
    }
   ],
   "source": [
    "\n",
    "\n",
    "results= pd.DataFrame({'Model': ['KNN Regression Model','Linear Regrassion','Random Forest regrassion','Support Vector Machine','Poisson Regressor','PLS Regrassion','Decision Tree','AdaBooster Regrassor','Gradient Bosting tree'],\n",
    "                       'Score': [knn_score,lin_score,regr_score,svm_score,piosson_score,pls_score,dt_score,ada_score,g_b_score]})\n",
    "\n",
    "ax = results.plot.bar(x='Model', y='Score', rot=90)"
   ]
  }
 ],
 "metadata": {
  "kernelspec": {
   "display_name": "Python 3",
   "language": "python",
   "name": "python3"
  },
  "language_info": {
   "codemirror_mode": {
    "name": "ipython",
    "version": 3
   },
   "file_extension": ".py",
   "mimetype": "text/x-python",
   "name": "python",
   "nbconvert_exporter": "python",
   "pygments_lexer": "ipython3",
   "version": "3.9.5"
  }
 },
 "nbformat": 4,
 "nbformat_minor": 4
}
